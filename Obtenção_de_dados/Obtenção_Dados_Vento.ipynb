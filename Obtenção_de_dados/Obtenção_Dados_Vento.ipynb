{
  "cells": [
    {
      "cell_type": "markdown",
      "metadata": {
        "id": "view-in-github",
        "colab_type": "text"
      },
      "source": [
        "<a href=\"https://colab.research.google.com/github/cff100/pjenergy/blob/main/Obten%C3%A7%C3%A3o_de_dados/Obten%C3%A7%C3%A3o_Dados_Vento.ipynb\" target=\"_parent\"><img src=\"https://colab.research.google.com/assets/colab-badge.svg\" alt=\"Open In Colab\"/></a>"
      ]
    },
    {
      "cell_type": "code",
      "source": [
        "''' INFO\n",
        "Código para a obtenção dos dados para o vento e temperatura.\n",
        "Esse código não faz parte do conjunto de códigos que geram gráficos.\n",
        "'''"
      ],
      "metadata": {
        "id": "Mou1ulZmqBdZ"
      },
      "execution_count": null,
      "outputs": []
    },
    {
      "cell_type": "code",
      "execution_count": null,
      "metadata": {
        "id": "Jz3WernwSZTC"
      },
      "outputs": [],
      "source": [
        "import math\n",
        "from datetime import datetime, timedelta"
      ]
    },
    {
      "cell_type": "code",
      "execution_count": null,
      "metadata": {
        "id": "CX7rSVGk_k0A"
      },
      "outputs": [],
      "source": [
        "# Constantes\n",
        "PA = 101.325  # Pressão atmosférica ao nível do mar em kPa\n",
        "k = 1.15e-4   # Constante em s²/m²\n",
        "g = 9.81      # Aceleração gravitacional em m/s²\n",
        "\n",
        "\n",
        "# Função para converter horário de Brasília para UTC\n",
        "def brasilia_para_utc(horario_brasilia):\n",
        "    brasilia_time = datetime.strptime(horario_brasilia, '%H:%M')\n",
        "    utc_time = brasilia_time + timedelta(hours=3)\n",
        "    return utc_time.strftime('%H:%M')\n",
        "\n",
        "# Medidas de tempo\n",
        "horas = ['03:00', '09:00', '15:00', '21:00']\n",
        "horas_utc = [brasilia_para_utc(h) for h in horas]\n",
        "\n",
        "meses = [str(mes) for mes in range(1, 13)]\n",
        "dias = [str(dia) for dia in range(1, 32)]\n",
        "anos_todos = [str(ano) for ano in range(2010, 2024)]\n",
        "\n",
        "\n",
        "# Níveis de pressão em KPa\n",
        "niveis_pressao = [90.0, 92.5, 95.0, 97.5, 100.0]\n",
        "# Níveis de pressão em hPa\n",
        "niveis_pressao_hpa = [p * 10 for p in niveis_pressao]\n",
        "\n",
        "#Área buscada\n",
        "norte = -21\n",
        "sul = -24\n",
        "oeste = -42\n",
        "leste = -39\n",
        "\n",
        "area = [norte, oeste, sul, leste]\n",
        "\n"
      ]
    },
    {
      "cell_type": "code",
      "execution_count": null,
      "metadata": {
        "collapsed": true,
        "id": "AMi3iYFhybOZ"
      },
      "outputs": [],
      "source": [
        "!pip install cdsapi\n",
        "!pip install netcdf4\n",
        "\n",
        "import cdsapi\n"
      ]
    },
    {
      "cell_type": "code",
      "execution_count": null,
      "metadata": {
        "colab": {
          "background_save": true
        },
        "id": "yXHcbAbYfa_Q"
      },
      "outputs": [],
      "source": [
        "anos = anos_todos[0:2]\n",
        "print(f\"Anos: {anos}\")\n",
        "\n",
        "# Inicializa a API do CDS\n",
        "c = cdsapi.Client(url='https://cds-beta.climate.copernicus.eu/api', key='89647e12-cf97-495d-a31b-3c325c5fd352')\n",
        "\n",
        "# Nome do arquivo NetCDF para o nível de pressão atual com o horário de Brasília\n",
        "nc_filename = f'Era5_Vento_CAMPOS({anos[0]}-{anos[1]}).nc'\n",
        "\n",
        "# Requisição dos dados\n",
        "dataset = 'reanalysis-era5-pressure-levels'\n",
        "request = {\n",
        "'product_type': ['reanalysis'],\n",
        "'variable': ['temperature', 'u_component_of_wind', 'v_component_of_wind'],\n",
        "'year': anos,\n",
        "'month': meses,\n",
        "'day': dias,\n",
        "'time': horas_utc,\n",
        "'area': area,  # Coordenadas da Bacia de Campos\n",
        "'pressure_level': niveis_pressao_hpa,  # Nível convertido de kPa para hPa\n",
        "'data_format': 'netcdf',\n",
        "'download_format': 'unarchived'\n",
        "}\n",
        "\n",
        "c.retrieve(dataset, request, nc_filename)\n",
        "\n"
      ]
    },
    {
      "cell_type": "code",
      "execution_count": null,
      "metadata": {
        "colab": {
          "background_save": true
        },
        "id": "kFR_jcWwOyqj"
      },
      "outputs": [],
      "source": [
        "anos = anos_todos[2:4]\n",
        "print(f\"Anos: {anos}\")\n",
        "\n",
        "# Inicializa a API do CDS\n",
        "c = cdsapi.Client(url='https://cds-beta.climate.copernicus.eu/api', key='89647e12-cf97-495d-a31b-3c325c5fd352')\n",
        "\n",
        "# Nome do arquivo NetCDF para o nível de pressão atual com o horário de Brasília\n",
        "nc_filename = f'Era5_2023_CAMPOS({anos[0]}-{anos[1]}).nc'\n",
        "\n",
        "# Requisição dos dados\n",
        "dataset = 'reanalysis-era5-pressure-levels'\n",
        "request = {\n",
        "'product_type': ['reanalysis'],\n",
        "'variable': ['temperature', 'u_component_of_wind', 'v_component_of_wind'],\n",
        "'year': anos,\n",
        "'month': meses,\n",
        "'day': dias,\n",
        "'time': horas_utc,\n",
        "'area': area,  # Coordenadas da Bacia de Campos\n",
        "'pressure_level': niveis_pressao_hpa,  # Nível convertido de kPa para hPa\n",
        "'data_format': 'netcdf',\n",
        "'download_format': 'unarchived'\n",
        "}\n",
        "\n",
        "c.retrieve(dataset, request, nc_filename)\n"
      ]
    },
    {
      "cell_type": "code",
      "execution_count": null,
      "metadata": {
        "colab": {
          "background_save": true
        },
        "id": "I6NeV0IhPP3v"
      },
      "outputs": [],
      "source": [
        "anos = anos_todos[4:6]\n",
        "print(f\"Anos: {anos}\")\n",
        "\n",
        "# Inicializa a API do CDS\n",
        "c = cdsapi.Client(url='https://cds-beta.climate.copernicus.eu/api', key='89647e12-cf97-495d-a31b-3c325c5fd352')\n",
        "\n",
        "# Nome do arquivo NetCDF para o nível de pressão atual com o horário de Brasília\n",
        "nc_filename = f'Era5_2023_CAMPOS({anos[0]}-{anos[1]}).nc'\n",
        "\n",
        "# Requisição dos dados\n",
        "dataset = 'reanalysis-era5-pressure-levels'\n",
        "request = {\n",
        "'product_type': ['reanalysis'],\n",
        "'variable': ['temperature', 'u_component_of_wind', 'v_component_of_wind'],\n",
        "'year': anos,\n",
        "'month': meses,\n",
        "'day': dias,\n",
        "'time': horas_utc,\n",
        "'area': area,  # Coordenadas da Bacia de Campos\n",
        "'pressure_level': niveis_pressao_hpa,  # Nível convertido de kPa para hPa\n",
        "'data_format': 'netcdf',\n",
        "'download_format': 'unarchived'\n",
        "}\n",
        "\n",
        "c.retrieve(dataset, request, nc_filename)"
      ]
    },
    {
      "cell_type": "code",
      "execution_count": null,
      "metadata": {
        "colab": {
          "background_save": true
        },
        "id": "rB7U55QGPYJh"
      },
      "outputs": [],
      "source": [
        "anos = anos_todos[6:8]\n",
        "print(f\"Anos: {anos}\")\n",
        "\n",
        "# Inicializa a API do CDS\n",
        "c = cdsapi.Client(url='https://cds-beta.climate.copernicus.eu/api', key='89647e12-cf97-495d-a31b-3c325c5fd352')\n",
        "\n",
        "# Nome do arquivo NetCDF para o nível de pressão atual com o horário de Brasília\n",
        "nc_filename = f'Era5_2023_CAMPOS({anos[0]}-{anos[1]}).nc'\n",
        "\n",
        "# Requisição dos dados\n",
        "dataset = 'reanalysis-era5-pressure-levels'\n",
        "request = {\n",
        "'product_type': ['reanalysis'],\n",
        "'variable': ['temperature', 'u_component_of_wind', 'v_component_of_wind'],\n",
        "'year': anos,\n",
        "'month': meses,\n",
        "'day': dias,\n",
        "'time': horas_utc,\n",
        "'area': area,  # Coordenadas da Bacia de Campos\n",
        "'pressure_level': niveis_pressao_hpa,  # Nível convertido de kPa para hPa\n",
        "'data_format': 'netcdf',\n",
        "'download_format': 'unarchived'\n",
        "}\n",
        "\n",
        "c.retrieve(dataset, request, nc_filename)"
      ]
    },
    {
      "cell_type": "code",
      "execution_count": null,
      "metadata": {
        "id": "ErD9LGjvPciB"
      },
      "outputs": [],
      "source": [
        "anos = anos_todos[8:10]\n",
        "print(f\"Anos: {anos}\")\n",
        "\n",
        "# Inicializa a API do CDS\n",
        "c = cdsapi.Client(url='https://cds-beta.climate.copernicus.eu/api', key='89647e12-cf97-495d-a31b-3c325c5fd352')\n",
        "\n",
        "# Nome do arquivo NetCDF para o nível de pressão atual com o horário de Brasília\n",
        "nc_filename = f'Era5_2023_CAMPOS({anos[0]}-{anos[1]}).nc'\n",
        "\n",
        "# Requisição dos dados\n",
        "dataset = 'reanalysis-era5-pressure-levels'\n",
        "request = {\n",
        "'product_type': ['reanalysis'],\n",
        "'variable': ['temperature', 'u_component_of_wind', 'v_component_of_wind'],\n",
        "'year': anos,\n",
        "'month': meses,\n",
        "'day': dias,\n",
        "'time': horas_utc,\n",
        "'area': area,  # Coordenadas da Bacia de Campos\n",
        "'pressure_level': niveis_pressao_hpa,  # Nível convertido de kPa para hPa\n",
        "'data_format': 'netcdf',\n",
        "'download_format': 'unarchived'\n",
        "}\n",
        "\n",
        "c.retrieve(dataset, request, nc_filename)"
      ]
    },
    {
      "cell_type": "code",
      "execution_count": null,
      "metadata": {
        "id": "AU1qRi8MPeX5"
      },
      "outputs": [],
      "source": [
        "anos = anos_todos[10:12]\n",
        "print(f\"Anos: {anos}\")\n",
        "\n",
        "# Inicializa a API do CDS\n",
        "c = cdsapi.Client(url='https://cds-beta.climate.copernicus.eu/api', key='89647e12-cf97-495d-a31b-3c325c5fd352')\n",
        "\n",
        "# Nome do arquivo NetCDF para o nível de pressão atual com o horário de Brasília\n",
        "nc_filename = f'Era5_2023_CAMPOS({anos[0]}-{anos[1]}).nc'\n",
        "\n",
        "# Requisição dos dados\n",
        "dataset = 'reanalysis-era5-pressure-levels'\n",
        "request = {\n",
        "'product_type': ['reanalysis'],\n",
        "'variable': ['temperature', 'u_component_of_wind', 'v_component_of_wind'],\n",
        "'year': anos,\n",
        "'month': meses,\n",
        "'day': dias,\n",
        "'time': horas_utc,\n",
        "'area': area,  # Coordenadas da Bacia de Campos\n",
        "'pressure_level': niveis_pressao_hpa,  # Nível convertido de kPa para hPa\n",
        "'data_format': 'netcdf',\n",
        "'download_format': 'unarchived'\n",
        "}\n",
        "\n",
        "c.retrieve(dataset, request, nc_filename)"
      ]
    },
    {
      "cell_type": "code",
      "execution_count": null,
      "metadata": {
        "colab": {
          "background_save": true
        },
        "id": "qSy5yi6TPgrx"
      },
      "outputs": [],
      "source": [
        "anos = anos_todos[12:14]\n",
        "print(f\"Anos: {anos}\")\n",
        "\n",
        "# Inicializa a API do CDS\n",
        "c = cdsapi.Client(url='https://cds-beta.climate.copernicus.eu/api', key='89647e12-cf97-495d-a31b-3c325c5fd352')\n",
        "\n",
        "# Nome do arquivo NetCDF para o nível de pressão atual com o horário de Brasília\n",
        "nc_filename = f'Era5_2023_CAMPOS({anos[0]}-{anos[1]}).nc'\n",
        "\n",
        "# Requisição dos dados\n",
        "dataset = 'reanalysis-era5-pressure-levels'\n",
        "request = {\n",
        "'product_type': ['reanalysis'],\n",
        "'variable': ['temperature', 'u_component_of_wind', 'v_component_of_wind'],\n",
        "'year': anos,\n",
        "'month': meses,\n",
        "'day': dias,\n",
        "'time': horas_utc,\n",
        "'area': area,  # Coordenadas da Bacia de Campos\n",
        "'pressure_level': niveis_pressao_hpa,  # Nível convertido de kPa para hPa\n",
        "'data_format': 'netcdf',\n",
        "'download_format': 'unarchived'\n",
        "}\n",
        "\n",
        "c.retrieve(dataset, request, nc_filename)"
      ]
    }
  ],
  "metadata": {
    "colab": {
      "provenance": [],
      "authorship_tag": "ABX9TyPXYfGqxrAWNUMGCQwFI3up",
      "include_colab_link": true
    },
    "kernelspec": {
      "display_name": "Python 3",
      "name": "python3"
    },
    "language_info": {
      "name": "python"
    }
  },
  "nbformat": 4,
  "nbformat_minor": 0
}